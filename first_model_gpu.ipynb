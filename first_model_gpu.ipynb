{
 "cells": [
  {
   "cell_type": "markdown",
   "metadata": {},
   "source": [
    "# Model with Pytorch (Train on the GPU)"
   ]
  },
  {
   "cell_type": "code",
   "execution_count": 1,
   "metadata": {},
   "outputs": [],
   "source": [
    "from functions import *"
   ]
  },
  {
   "cell_type": "code",
   "execution_count": 2,
   "metadata": {},
   "outputs": [],
   "source": [
    "import os\n",
    "import numpy as np\n",
    "import cv2\n",
    "import torch\n",
    "import torch.nn as nn\n",
    "import torch.optim as optim\n",
    "# from torchsummary import summary\n",
    "from torch.utils.data import Dataset, DataLoader\n",
    "import string\n",
    "import matplotlib.pyplot as plt"
   ]
  },
  {
   "cell_type": "code",
   "execution_count": 3,
   "metadata": {},
   "outputs": [
    {
     "name": "stdout",
     "output_type": "stream",
     "text": [
      "Appareil utilisé : cuda\n"
     ]
    }
   ],
   "source": [
    "# Vérifiez si CUDA est disponible\n",
    "device = torch.device(\"cuda\" if torch.cuda.is_available() else \"cpu\")\n",
    "print(\"Appareil utilisé :\", device)"
   ]
  },
  {
   "cell_type": "markdown",
   "metadata": {},
   "source": [
    "### create a class for the dataset"
   ]
  },
  {
   "cell_type": "code",
   "execution_count": 4,
   "metadata": {},
   "outputs": [],
   "source": [
    "# Chargement des données\n",
    "dataset = CaptchaDataset(file_path=\"data/6_CHARACTERS\", size_image=(75, 250, 1), ncharacter_per_image=6, ncharacter_total=36)\n",
    "\n",
    "train_size = len(dataset) - 11600\n",
    "test_size = 11600\n",
    "train_dataset, test_dataset = torch.utils.data.random_split(dataset, [train_size, test_size])\n",
    "\n",
    "train_loader = DataLoader(train_dataset, batch_size=32, shuffle=True)\n",
    "test_loader = DataLoader(test_dataset, batch_size=32, shuffle=False)"
   ]
  },
  {
   "cell_type": "markdown",
   "metadata": {},
   "source": [
    "## First model"
   ]
  },
  {
   "cell_type": "markdown",
   "metadata": {},
   "source": [
    "### Create a model"
   ]
  },
  {
   "cell_type": "code",
   "execution_count": 6,
   "metadata": {},
   "outputs": [],
   "source": [
    "# Création du modèle\n",
    "model_v4 = CaptchaModel(size_image=(75, 250, 1), n_characters_per_image=6, n_characters_total=36, dropout_val=0.8)\n",
    "model_v4.to(device)  # Transférez le modèle sur le GPU\n",
    "criterion = nn.BCELoss()\n",
    "optimizer = optim.Adam(model_v4.parameters(), lr=0.001)"
   ]
  },
  {
   "cell_type": "markdown",
   "metadata": {},
   "source": [
    "### train the model"
   ]
  },
  {
   "cell_type": "code",
   "execution_count": 7,
   "metadata": {},
   "outputs": [
    {
     "name": "stdout",
     "output_type": "stream",
     "text": [
      "Epoch [1/40], Train Loss: 1.1765, Val Loss: 0.7224\n",
      "Epoch [2/40], Train Loss: 0.9171, Val Loss: 0.7041\n",
      "Epoch [3/40], Train Loss: 0.8467, Val Loss: 0.6648\n",
      "Epoch [4/40], Train Loss: 0.7774, Val Loss: 0.6125\n",
      "Epoch [5/40], Train Loss: 0.6949, Val Loss: 0.5266\n",
      "Epoch [6/40], Train Loss: 0.6139, Val Loss: 0.4525\n",
      "Epoch [7/40], Train Loss: 0.5406, Val Loss: 0.3836\n",
      "Epoch [8/40], Train Loss: 0.4826, Val Loss: 0.3309\n",
      "Epoch [9/40], Train Loss: 0.4372, Val Loss: 0.2966\n",
      "Epoch [10/40], Train Loss: 0.4060, Val Loss: 0.2734\n",
      "Epoch [11/40], Train Loss: 0.3812, Val Loss: 0.2532\n",
      "Epoch [12/40], Train Loss: 0.3622, Val Loss: 0.2364\n",
      "Epoch [13/40], Train Loss: 0.3458, Val Loss: 0.2209\n",
      "Epoch [14/40], Train Loss: 0.3329, Val Loss: 0.2117\n",
      "Epoch [15/40], Train Loss: 0.3217, Val Loss: 0.2016\n",
      "Epoch [16/40], Train Loss: 0.3143, Val Loss: 0.1966\n",
      "Epoch [17/40], Train Loss: 0.3079, Val Loss: 0.1928\n",
      "Epoch [18/40], Train Loss: 0.3023, Val Loss: 0.1903\n",
      "Epoch [19/40], Train Loss: 0.2959, Val Loss: 0.1860\n",
      "Epoch [20/40], Train Loss: 0.2913, Val Loss: 0.1787\n",
      "Epoch [21/40], Train Loss: 0.2888, Val Loss: 0.1780\n",
      "Epoch [22/40], Train Loss: 0.2839, Val Loss: 0.1740\n",
      "Epoch [23/40], Train Loss: 0.2811, Val Loss: 0.1720\n",
      "Epoch [24/40], Train Loss: 0.2774, Val Loss: 0.1711\n",
      "Epoch [25/40], Train Loss: 0.2745, Val Loss: 0.1680\n",
      "Epoch [26/40], Train Loss: 0.2715, Val Loss: 0.1640\n",
      "Epoch [27/40], Train Loss: 0.2704, Val Loss: 0.1630\n",
      "Epoch [28/40], Train Loss: 0.2680, Val Loss: 0.1684\n",
      "Epoch [29/40], Train Loss: 0.2661, Val Loss: 0.1662\n",
      "Epoch [30/40], Train Loss: 0.2646, Val Loss: 0.1623\n",
      "Epoch [31/40], Train Loss: 0.2621, Val Loss: 0.1608\n",
      "Epoch [32/40], Train Loss: 0.2603, Val Loss: 0.1565\n",
      "Epoch [33/40], Train Loss: 0.2577, Val Loss: 0.1545\n",
      "Epoch [34/40], Train Loss: 0.2573, Val Loss: 0.1547\n",
      "Epoch [35/40], Train Loss: 0.2553, Val Loss: 0.1525\n",
      "Epoch [36/40], Train Loss: 0.2539, Val Loss: 0.1640\n",
      "Epoch [37/40], Train Loss: 0.2540, Val Loss: 0.1525\n",
      "Epoch [38/40], Train Loss: 0.2518, Val Loss: 0.1537\n",
      "Epoch [39/40], Train Loss: 0.2501, Val Loss: 0.1540\n",
      "Epoch [40/40], Train Loss: 0.2491, Val Loss: 0.1530\n"
     ]
    }
   ],
   "source": [
    "device = torch.device(\"cuda:0\" if torch.cuda.is_available() else \"cpu\")\n",
    "model_v4.to(device)\n",
    "# Listes pour stocker les pertes\n",
    "train_losses = []\n",
    "val_losses = []\n",
    "\n",
    "# Entraînement\n",
    "num_epochs = 40\n",
    "for epoch in range(num_epochs):\n",
    "    model_v4.train()\n",
    "    running_loss = 0.0\n",
    "    for images, labels in train_loader:\n",
    "        # put the image and the label on the gpu\n",
    "        images = images.to(device)\n",
    "        labels  = labels.to(device)\n",
    "\n",
    "        optimizer.zero_grad()\n",
    "        outputs = model_v4(images)\n",
    "        loss = sum(criterion(output, label) for output, label in zip(outputs, labels.permute(1, 0, 2)))\n",
    "        loss.backward()\n",
    "        optimizer.step()\n",
    "        running_loss += loss.item()\n",
    "    train_losses.append(running_loss / len(train_loader))\n",
    "\n",
    "    # Validation\n",
    "    model_v4.eval()\n",
    "    val_loss = 0.0\n",
    "    with torch.no_grad():\n",
    "        for images, labels in test_loader:\n",
    "            images = images.to(device)\n",
    "            labels  = labels.to(device)\n",
    "            \n",
    "            outputs = model_v4(images)\n",
    "            loss = sum(criterion(output, label) for output, label in zip(outputs, labels.permute(1, 0, 2)))\n",
    "            val_loss += loss.item()\n",
    "    val_losses.append(val_loss / len(test_loader))\n",
    "    \n",
    "    print(f'Epoch [{epoch+1}/{num_epochs}], Train Loss: {train_losses[-1]:.4f}, Val Loss: {val_losses[-1]:.4f}')"
   ]
  },
  {
   "cell_type": "code",
   "execution_count": 8,
   "metadata": {},
   "outputs": [],
   "source": [
    "torch.save(model_v4, \"model/model_full_v4.pth\")"
   ]
  },
  {
   "cell_type": "markdown",
   "metadata": {},
   "source": [
    "### plot the loss function"
   ]
  },
  {
   "cell_type": "code",
   "execution_count": 9,
   "metadata": {},
   "outputs": [
    {
     "data": {
      "image/png": "[encoded data removed]",
      "text/plain": [
       "<Figure size 1000x600 with 1 Axes>"
      ]
     },
     "metadata": {},
     "output_type": "display_data"
    }
   ],
   "source": [
    "# Tracé des pertes\n",
    "plt.figure(figsize=(10, 6))\n",
    "plt.plot(range(1, num_epochs + 1), train_losses, label='Train Loss')\n",
    "plt.plot(range(1, num_epochs + 1), val_losses, label='Validation Loss')\n",
    "plt.xlabel('Epochs')\n",
    "plt.ylabel('Loss')\n",
    "plt.title('Loss over Epochs')\n",
    "plt.legend()\n",
    "plt.grid(True)\n",
    "plt.show()"
   ]
  },
  {
   "cell_type": "code",
   "execution_count": 10,
   "metadata": {},
   "outputs": [
    {
     "name": "stderr",
     "output_type": "stream",
     "text": [
      "C:\\Users\\Nasir\\AppData\\Local\\Temp\\ipykernel_5432\\2419149204.py:1: FutureWarning: You are using `torch.load` with `weights_only=False` (the current default value), which uses the default pickle module implicitly. It is possible to construct malicious pickle data which will execute arbitrary code during unpickling (See https://github.com/pytorch/pytorch/blob/main/SECURITY.md#untrusted-models for more details). In a future release, the default value for `weights_only` will be flipped to `True`. This limits the functions that could be executed during unpickling. Arbitrary objects will no longer be allowed to be loaded via this mode unless they are explicitly allowlisted by the user via `torch.serialization.add_safe_globals`. We recommend you start setting `weights_only=True` for any use case where you don't have full control of the loaded file. Please open an issue on GitHub for any issues related to this experimental feature.\n",
      "  model_v4 = torch.load(\"model/model_full_v4.pth\")\n"
     ]
    },
    {
     "data": {
      "text/plain": [
       "CaptchaModel(\n",
       "  (conv1): Conv2d(1, 16, kernel_size=(3, 3), stride=(1, 1), padding=(1, 1))\n",
       "  (conv2): Conv2d(16, 32, kernel_size=(3, 3), stride=(1, 1), padding=(1, 1))\n",
       "  (conv3): Conv2d(32, 32, kernel_size=(3, 3), stride=(1, 1), padding=(1, 1))\n",
       "  (pool): MaxPool2d(kernel_size=2, stride=2, padding=0, dilation=1, ceil_mode=False)\n",
       "  (bn): BatchNorm2d(32, eps=1e-05, momentum=0.1, affine=True, track_running_stats=True)\n",
       "  (fc_layers): ModuleList(\n",
       "    (0-5): 6 x Sequential(\n",
       "      (0): Linear(in_features=8928, out_features=64, bias=True)\n",
       "      (1): ReLU()\n",
       "      (2): Dropout(p=0.8, inplace=False)\n",
       "      (3): Linear(in_features=64, out_features=36, bias=True)\n",
       "      (4): Sigmoid()\n",
       "    )\n",
       "  )\n",
       ")"
      ]
     },
     "execution_count": 10,
     "metadata": {},
     "output_type": "execute_result"
    }
   ],
   "source": [
    "model_v4 = torch.load(\"model/model_full_v4.pth\")\n",
    "model_v4.eval()"
   ]
  },
  {
   "cell_type": "markdown",
   "metadata": {},
   "source": [
    "### Test the model on the test dataset"
   ]
  },
  {
   "cell_type": "code",
   "execution_count": 13,
   "metadata": {},
   "outputs": [],
   "source": [
    "characters = string.ascii_uppercase + string.digits\n",
    "model_v4.eval()\n",
    "truepos = 0\n",
    "count_img = 0\n",
    "for images, labels in test_dataset:\n",
    "    # print(images.shape)\n",
    "    # print(labels.shape)\n",
    "    # print(images)\n",
    "    # print(model(images.unsqueeze(0)))\n",
    "    images = images.to(device)\n",
    "    labels = labels.to(device)\n",
    "    prediction = predict_1(model_v4, images)\n",
    "    \n",
    "    labels = [characters[torch.argmax(la).item()] for la in labels]\n",
    "    if sum(p == g for p, g in zip(prediction, labels)) != 6:\n",
    "        count_img += 1\n",
    "    #     print(prediction)\n",
    "    #     print(labels)\n",
    "    truepos += sum(p == g for p, g in zip(prediction, labels))\n",
    "    \n",
    "\n",
    "Accuracy = truepos/(len(test_dataset)*6)\n",
    "Accuracy_v1 = (len(test_dataset)-count_img)/len(test_dataset)"
   ]
  },
  {
   "cell_type": "code",
   "execution_count": 14,
   "metadata": {},
   "outputs": [
    {
     "name": "stdout",
     "output_type": "stream",
     "text": [
      "l'accuracy sur les caractères est de 0.9292672413793104\n",
      "le nombre d'image qui ont au moins un caractère incorrect est de 2681\n",
      "l'autre accuracy sur les images est de 0.7688793103448276\n"
     ]
    }
   ],
   "source": [
    "print(f\"l'accuracy sur les caractères est de {Accuracy}\")\n",
    "print(f\"le nombre d'image qui ont au moins un caractère incorrect est de {count_img}\") #count_img\n",
    "print(f\"l'autre accuracy sur les images est de {Accuracy_v1}\") "
   ]
  }
 ],
 "metadata": {
  "kernelspec": {
   "display_name": "captcha_env",
   "language": "python",
   "name": "python3"
  },
  "language_info": {
   "codemirror_mode": {
    "name": "ipython",
    "version": 3
   },
   "file_extension": ".py",
   "mimetype": "text/x-python",
   "name": "python",
   "nbconvert_exporter": "python",
   "pygments_lexer": "ipython3",
   "version": "3.12.4"
  }
 },
 "nbformat": 4,
 "nbformat_minor": 2
}
